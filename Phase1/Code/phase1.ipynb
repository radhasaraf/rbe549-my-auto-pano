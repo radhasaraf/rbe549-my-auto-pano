{
 "cells": [
  {
   "cell_type": "code",
   "execution_count": 2,
   "metadata": {},
   "outputs": [],
   "source": [
    "import numpy as np\n",
    "\n",
    "a = np.array([[1,2,3,4],[3,4,5,6]])\n",
    "b = np.array([[65],[67]])"
   ]
  },
  {
   "cell_type": "code",
   "execution_count": 3,
   "metadata": {},
   "outputs": [
    {
     "name": "stdout",
     "output_type": "stream",
     "text": [
      "[[66 67 68 69]\n",
      " [70 71 72 73]]\n",
      "(2, 4)\n",
      "(2, 1)\n"
     ]
    }
   ],
   "source": [
    "print(a+b)\n",
    "print(np.shape(a))\n",
    "print(np.shape(b))"
   ]
  }
 ],
 "metadata": {
  "kernelspec": {
   "display_name": "Python 3.8.13 ('CV')",
   "language": "python",
   "name": "python3"
  },
  "language_info": {
   "codemirror_mode": {
    "name": "ipython",
    "version": 3
   },
   "file_extension": ".py",
   "mimetype": "text/x-python",
   "name": "python",
   "nbconvert_exporter": "python",
   "pygments_lexer": "ipython3",
   "version": "3.8.13"
  },
  "orig_nbformat": 4,
  "vscode": {
   "interpreter": {
    "hash": "d6a30f1b1d17f944e008eac578c09de5069b6104ded342f4e35592654b0fe2db"
   }
  }
 },
 "nbformat": 4,
 "nbformat_minor": 2
}
